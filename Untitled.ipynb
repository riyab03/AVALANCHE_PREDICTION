{
 "cells": [
  {
   "cell_type": "code",
   "execution_count": 2,
   "id": "92df35c7",
   "metadata": {},
   "outputs": [],
   "source": [
    "import pandas as pd\n"
   ]
  },
  {
   "cell_type": "code",
   "execution_count": 3,
   "id": "69088d06",
   "metadata": {},
   "outputs": [],
   "source": [
    "import numpy as np"
   ]
  },
  {
   "cell_type": "code",
   "execution_count": 4,
   "id": "37c0345d",
   "metadata": {},
   "outputs": [],
   "source": [
    "import matplotlib.pyplot as plt\n"
   ]
  },
  {
   "cell_type": "code",
   "execution_count": 5,
   "id": "f0348be1",
   "metadata": {},
   "outputs": [
    {
     "ename": "ModuleNotFoundError",
     "evalue": "No module named 'seaborn'",
     "output_type": "error",
     "traceback": [
      "\u001b[1;31m---------------------------------------------------------------------------\u001b[0m",
      "\u001b[1;31mModuleNotFoundError\u001b[0m                       Traceback (most recent call last)",
      "Cell \u001b[1;32mIn[5], line 1\u001b[0m\n\u001b[1;32m----> 1\u001b[0m \u001b[38;5;28;01mimport\u001b[39;00m \u001b[38;5;21;01mseaborn\u001b[39;00m \u001b[38;5;28;01mas\u001b[39;00m \u001b[38;5;21;01msb\u001b[39;00m\n",
      "\u001b[1;31mModuleNotFoundError\u001b[0m: No module named 'seaborn'"
     ]
    }
   ],
   "source": [
    "import seaborn as sb"
   ]
  },
  {
   "cell_type": "code",
   "execution_count": 6,
   "id": "0318a67f",
   "metadata": {},
   "outputs": [],
   "source": [
    "from sklearn.model_selection import train_test_split\n",
    "from sklearn import metrics\n",
    "from sklearn.preprocessing import LabelEncoder\n",
    "import random"
   ]
  },
  {
   "cell_type": "code",
   "execution_count": 7,
   "id": "a3b24b80",
   "metadata": {},
   "outputs": [],
   "source": [
    "df=pd.read_csv('dataforvalidationwithdangerlevels.csv')"
   ]
  },
  {
   "cell_type": "code",
   "execution_count": 8,
   "id": "cc43c0ef",
   "metadata": {},
   "outputs": [
    {
     "data": {
      "text/html": [
       "<div>\n",
       "<style scoped>\n",
       "    .dataframe tbody tr th:only-of-type {\n",
       "        vertical-align: middle;\n",
       "    }\n",
       "\n",
       "    .dataframe tbody tr th {\n",
       "        vertical-align: top;\n",
       "    }\n",
       "\n",
       "    .dataframe thead th {\n",
       "        text-align: right;\n",
       "    }\n",
       "</style>\n",
       "<table border=\"1\" class=\"dataframe\">\n",
       "  <thead>\n",
       "    <tr style=\"text-align: right;\">\n",
       "      <th></th>\n",
       "      <th>date</th>\n",
       "      <th>hydrYear</th>\n",
       "      <th>slfCode</th>\n",
       "      <th>aspect</th>\n",
       "      <th>warningRegion_ID</th>\n",
       "      <th>dangerLevelQualityChecked</th>\n",
       "      <th>HS</th>\n",
       "      <th>p_decisive</th>\n",
       "      <th>z_decisive</th>\n",
       "      <th>gt_decisive</th>\n",
       "      <th>...</th>\n",
       "      <th>Psize3_zdeep</th>\n",
       "      <th>Psize4_zdeep</th>\n",
       "      <th>Psize3_zn72</th>\n",
       "      <th>Psize4_zn72</th>\n",
       "      <th>Psize2_zn24</th>\n",
       "      <th>Psize2_zdeep</th>\n",
       "      <th>Psize3_zn24</th>\n",
       "      <th>Psize4_zn24</th>\n",
       "      <th>Psize5_zn24</th>\n",
       "      <th>Psize5_zdeep</th>\n",
       "    </tr>\n",
       "  </thead>\n",
       "  <tbody>\n",
       "    <tr>\n",
       "      <th>0</th>\n",
       "      <td>2001-12-01 12:00:00</td>\n",
       "      <td>2002</td>\n",
       "      <td>TAM2</td>\n",
       "      <td>N</td>\n",
       "      <td>3223</td>\n",
       "      <td>4</td>\n",
       "      <td>30.42</td>\n",
       "      <td>0.741833</td>\n",
       "      <td>16.31</td>\n",
       "      <td>491</td>\n",
       "      <td>...</td>\n",
       "      <td>0.244032</td>\n",
       "      <td>0.033009</td>\n",
       "      <td>0.248787</td>\n",
       "      <td>0.033665</td>\n",
       "      <td>0.572388</td>\n",
       "      <td>0.732871</td>\n",
       "      <td>0.178668</td>\n",
       "      <td>0.024195</td>\n",
       "      <td>0.001082</td>\n",
       "      <td>0.001413</td>\n",
       "    </tr>\n",
       "  </tbody>\n",
       "</table>\n",
       "<p>1 rows × 29 columns</p>\n",
       "</div>"
      ],
      "text/plain": [
       "                  date  hydrYear slfCode aspect  warningRegion_ID  \\\n",
       "0  2001-12-01 12:00:00      2002    TAM2      N              3223   \n",
       "\n",
       "   dangerLevelQualityChecked     HS  p_decisive  z_decisive  gt_decisive  ...  \\\n",
       "0                          4  30.42    0.741833       16.31          491  ...   \n",
       "\n",
       "   Psize3_zdeep  Psize4_zdeep  Psize3_zn72  Psize4_zn72  Psize2_zn24  \\\n",
       "0      0.244032      0.033009     0.248787     0.033665     0.572388   \n",
       "\n",
       "   Psize2_zdeep  Psize3_zn24  Psize4_zn24  Psize5_zn24  Psize5_zdeep  \n",
       "0      0.732871     0.178668     0.024195     0.001082      0.001413  \n",
       "\n",
       "[1 rows x 29 columns]"
      ]
     },
     "execution_count": 8,
     "metadata": {},
     "output_type": "execute_result"
    }
   ],
   "source": [
    "df.head(1)\n"
   ]
  },
  {
   "cell_type": "code",
   "execution_count": 9,
   "id": "a599d7cc",
   "metadata": {},
   "outputs": [
    {
     "data": {
      "text/html": [
       "<div>\n",
       "<style scoped>\n",
       "    .dataframe tbody tr th:only-of-type {\n",
       "        vertical-align: middle;\n",
       "    }\n",
       "\n",
       "    .dataframe tbody tr th {\n",
       "        vertical-align: top;\n",
       "    }\n",
       "\n",
       "    .dataframe thead th {\n",
       "        text-align: right;\n",
       "    }\n",
       "</style>\n",
       "<table border=\"1\" class=\"dataframe\">\n",
       "  <thead>\n",
       "    <tr style=\"text-align: right;\">\n",
       "      <th></th>\n",
       "      <th>date</th>\n",
       "      <th>hydrYear</th>\n",
       "      <th>slfCode</th>\n",
       "      <th>aspect</th>\n",
       "      <th>warningRegion_ID</th>\n",
       "      <th>HS</th>\n",
       "      <th>p_decisive</th>\n",
       "      <th>z_decisive</th>\n",
       "      <th>gt_decisive</th>\n",
       "      <th>p_deepest</th>\n",
       "      <th>...</th>\n",
       "      <th>Psize4_zdeep</th>\n",
       "      <th>Psize3_zn72</th>\n",
       "      <th>Psize4_zn72</th>\n",
       "      <th>Psize2_zn24</th>\n",
       "      <th>Psize2_zdeep</th>\n",
       "      <th>Psize3_zn24</th>\n",
       "      <th>Psize4_zn24</th>\n",
       "      <th>Psize5_zn24</th>\n",
       "      <th>Psize5_zdeep</th>\n",
       "      <th>dangerlevel</th>\n",
       "    </tr>\n",
       "  </thead>\n",
       "  <tbody>\n",
       "    <tr>\n",
       "      <th>0</th>\n",
       "      <td>2001-12-01 12:00:00</td>\n",
       "      <td>2002</td>\n",
       "      <td>TAM2</td>\n",
       "      <td>N</td>\n",
       "      <td>3223</td>\n",
       "      <td>30.42</td>\n",
       "      <td>0.741833</td>\n",
       "      <td>16.31</td>\n",
       "      <td>491</td>\n",
       "      <td>NaN</td>\n",
       "      <td>...</td>\n",
       "      <td>0.033009</td>\n",
       "      <td>0.248787</td>\n",
       "      <td>0.033665</td>\n",
       "      <td>0.572388</td>\n",
       "      <td>0.732871</td>\n",
       "      <td>0.178668</td>\n",
       "      <td>0.024195</td>\n",
       "      <td>0.001082</td>\n",
       "      <td>0.001413</td>\n",
       "      <td>4</td>\n",
       "    </tr>\n",
       "    <tr>\n",
       "      <th>1</th>\n",
       "      <td>2001-12-01 12:00:00</td>\n",
       "      <td>2002</td>\n",
       "      <td>TAM2</td>\n",
       "      <td>S</td>\n",
       "      <td>3223</td>\n",
       "      <td>33.36</td>\n",
       "      <td>0.440560</td>\n",
       "      <td>18.22</td>\n",
       "      <td>990</td>\n",
       "      <td>NaN</td>\n",
       "      <td>...</td>\n",
       "      <td>0.034225</td>\n",
       "      <td>0.248787</td>\n",
       "      <td>0.033665</td>\n",
       "      <td>0.572388</td>\n",
       "      <td>0.748999</td>\n",
       "      <td>0.178668</td>\n",
       "      <td>0.024195</td>\n",
       "      <td>0.001082</td>\n",
       "      <td>0.001458</td>\n",
       "      <td>4</td>\n",
       "    </tr>\n",
       "    <tr>\n",
       "      <th>2</th>\n",
       "      <td>2001-12-03 12:00:00</td>\n",
       "      <td>2002</td>\n",
       "      <td>BED2</td>\n",
       "      <td>E</td>\n",
       "      <td>6111</td>\n",
       "      <td>42.64</td>\n",
       "      <td>0.318720</td>\n",
       "      <td>29.20</td>\n",
       "      <td>951</td>\n",
       "      <td>NaN</td>\n",
       "      <td>...</td>\n",
       "      <td>0.042097</td>\n",
       "      <td>0.202371</td>\n",
       "      <td>0.027314</td>\n",
       "      <td>0.572388</td>\n",
       "      <td>0.828694</td>\n",
       "      <td>0.178668</td>\n",
       "      <td>0.024195</td>\n",
       "      <td>0.001082</td>\n",
       "      <td>0.001745</td>\n",
       "      <td>2</td>\n",
       "    </tr>\n",
       "    <tr>\n",
       "      <th>3</th>\n",
       "      <td>2001-12-03 12:00:00</td>\n",
       "      <td>2002</td>\n",
       "      <td>BED2</td>\n",
       "      <td>W</td>\n",
       "      <td>6111</td>\n",
       "      <td>41.34</td>\n",
       "      <td>0.400018</td>\n",
       "      <td>11.59</td>\n",
       "      <td>491</td>\n",
       "      <td>NaN</td>\n",
       "      <td>...</td>\n",
       "      <td>0.030180</td>\n",
       "      <td>0.202371</td>\n",
       "      <td>0.027314</td>\n",
       "      <td>0.572388</td>\n",
       "      <td>0.690308</td>\n",
       "      <td>0.178668</td>\n",
       "      <td>0.024195</td>\n",
       "      <td>0.001082</td>\n",
       "      <td>0.001308</td>\n",
       "      <td>2</td>\n",
       "    </tr>\n",
       "    <tr>\n",
       "      <th>4</th>\n",
       "      <td>2001-12-10 12:00:00</td>\n",
       "      <td>2002</td>\n",
       "      <td>DAV3</td>\n",
       "      <td>E</td>\n",
       "      <td>5123</td>\n",
       "      <td>54.91</td>\n",
       "      <td>0.512902</td>\n",
       "      <td>26.99</td>\n",
       "      <td>490</td>\n",
       "      <td>NaN</td>\n",
       "      <td>...</td>\n",
       "      <td>0.040384</td>\n",
       "      <td>0.186188</td>\n",
       "      <td>0.025177</td>\n",
       "      <td>0.572388</td>\n",
       "      <td>0.814446</td>\n",
       "      <td>0.178668</td>\n",
       "      <td>0.024195</td>\n",
       "      <td>0.001082</td>\n",
       "      <td>0.001683</td>\n",
       "      <td>2</td>\n",
       "    </tr>\n",
       "  </tbody>\n",
       "</table>\n",
       "<p>5 rows × 29 columns</p>\n",
       "</div>"
      ],
      "text/plain": [
       "                  date  hydrYear slfCode aspect  warningRegion_ID     HS  \\\n",
       "0  2001-12-01 12:00:00      2002    TAM2      N              3223  30.42   \n",
       "1  2001-12-01 12:00:00      2002    TAM2      S              3223  33.36   \n",
       "2  2001-12-03 12:00:00      2002    BED2      E              6111  42.64   \n",
       "3  2001-12-03 12:00:00      2002    BED2      W              6111  41.34   \n",
       "4  2001-12-10 12:00:00      2002    DAV3      E              5123  54.91   \n",
       "\n",
       "   p_decisive  z_decisive  gt_decisive  p_deepest  ...  Psize4_zdeep  \\\n",
       "0    0.741833       16.31          491        NaN  ...      0.033009   \n",
       "1    0.440560       18.22          990        NaN  ...      0.034225   \n",
       "2    0.318720       29.20          951        NaN  ...      0.042097   \n",
       "3    0.400018       11.59          491        NaN  ...      0.030180   \n",
       "4    0.512902       26.99          490        NaN  ...      0.040384   \n",
       "\n",
       "   Psize3_zn72  Psize4_zn72  Psize2_zn24  Psize2_zdeep  Psize3_zn24  \\\n",
       "0     0.248787     0.033665     0.572388      0.732871     0.178668   \n",
       "1     0.248787     0.033665     0.572388      0.748999     0.178668   \n",
       "2     0.202371     0.027314     0.572388      0.828694     0.178668   \n",
       "3     0.202371     0.027314     0.572388      0.690308     0.178668   \n",
       "4     0.186188     0.025177     0.572388      0.814446     0.178668   \n",
       "\n",
       "   Psize4_zn24  Psize5_zn24  Psize5_zdeep  dangerlevel  \n",
       "0     0.024195     0.001082      0.001413            4  \n",
       "1     0.024195     0.001082      0.001458            4  \n",
       "2     0.024195     0.001082      0.001745            2  \n",
       "3     0.024195     0.001082      0.001308            2  \n",
       "4     0.024195     0.001082      0.001683            2  \n",
       "\n",
       "[5 rows x 29 columns]"
      ]
     },
     "execution_count": 9,
     "metadata": {},
     "output_type": "execute_result"
    }
   ],
   "source": [
    "df['dangerlevel']=df['dangerLevelQualityChecked']\n",
    "df=df.drop('dangerLevelQualityChecked',axis=1)\n",
    "df.head()"
   ]
  },
  {
   "cell_type": "code",
   "execution_count": 10,
   "id": "6d0790b2",
   "metadata": {},
   "outputs": [
    {
     "data": {
      "text/plain": [
       "Index(['date', 'hydrYear', 'slfCode', 'aspect', 'warningRegion_ID', 'HS',\n",
       "       'p_decisive', 'z_decisive', 'gt_decisive', 'p_deepest',\n",
       "       'z_deepestUnstable', 'gt_deepest', 'z_pp', 'HN24', 'HN72_24',\n",
       "       'PAvD_pdec', 'PAvD_zn72', 'PAvD_pdec_zn72', 'Psize3_zdeep',\n",
       "       'Psize4_zdeep', 'Psize3_zn72', 'Psize4_zn72', 'Psize2_zn24',\n",
       "       'Psize2_zdeep', 'Psize3_zn24', 'Psize4_zn24', 'Psize5_zn24',\n",
       "       'Psize5_zdeep', 'dangerlevel'],\n",
       "      dtype='object')"
      ]
     },
     "execution_count": 10,
     "metadata": {},
     "output_type": "execute_result"
    }
   ],
   "source": [
    "df.columns"
   ]
  },
  {
   "cell_type": "code",
   "execution_count": 11,
   "id": "94fbff51",
   "metadata": {},
   "outputs": [
    {
     "data": {
      "text/plain": [
       "slfCode                  0\n",
       "HS                       0\n",
       "p_decisive               0\n",
       "z_decisive               0\n",
       "gt_decisive              0\n",
       "p_deepest            61918\n",
       "z_deepestUnstable        0\n",
       "gt_deepest           61918\n",
       "z_pp                     0\n",
       "HN24                     0\n",
       "HN72_24                  0\n",
       "PAvD_pdec                0\n",
       "PAvD_zn72                0\n",
       "PAvD_pdec_zn72           0\n",
       "Psize3_zdeep             0\n",
       "Psize4_zdeep             0\n",
       "Psize3_zn72              0\n",
       "Psize4_zn72              0\n",
       "Psize2_zn24              0\n",
       "Psize2_zdeep             0\n",
       "Psize3_zn24              0\n",
       "Psize4_zn24              0\n",
       "Psize5_zn24              0\n",
       "Psize5_zdeep             0\n",
       "dangerlevel              0\n",
       "dtype: int64"
      ]
     },
     "execution_count": 11,
     "metadata": {},
     "output_type": "execute_result"
    }
   ],
   "source": [
    "df=df.drop(([\"date\",\"hydrYear\",\"warningRegion_ID\",\"aspect\"]),axis=1)\n",
    "\n",
    "df.isnull().sum()"
   ]
  },
  {
   "cell_type": "code",
   "execution_count": 12,
   "id": "5533b893",
   "metadata": {},
   "outputs": [
    {
     "data": {
      "text/plain": [
       "array([4, 2, 1, 3, 5], dtype=int64)"
      ]
     },
     "execution_count": 12,
     "metadata": {},
     "output_type": "execute_result"
    }
   ],
   "source": [
    "df=df.drop(['slfCode','p_deepest','gt_deepest'],axis=1)\n",
    "\n",
    "df['dangerlevel'].unique()\n"
   ]
  },
  {
   "cell_type": "code",
   "execution_count": 13,
   "id": "2897b03a",
   "metadata": {},
   "outputs": [],
   "source": [
    "from sklearn.model_selection import train_test_split\n",
    "from sklearn.ensemble import RandomForestClassifier\n",
    "from sklearn.metrics import accuracy_score, classification_report"
   ]
  },
  {
   "cell_type": "code",
   "execution_count": 14,
   "id": "89c16ed4",
   "metadata": {},
   "outputs": [],
   "source": [
    "X = df.drop('dangerlevel',axis=1)\n",
    "y = df['dangerlevel']"
   ]
  },
  {
   "cell_type": "code",
   "execution_count": 15,
   "id": "d7c6141d",
   "metadata": {},
   "outputs": [],
   "source": [
    "\n",
    "X_train, X_test, y_train, y_test = train_test_split(X, y, test_size=0.2, random_state=42)\n"
   ]
  },
  {
   "cell_type": "code",
   "execution_count": 17,
   "id": "44f96cc7",
   "metadata": {},
   "outputs": [
    {
     "data": {
      "text/html": [
       "<style>#sk-container-id-2 {color: black;background-color: white;}#sk-container-id-2 pre{padding: 0;}#sk-container-id-2 div.sk-toggleable {background-color: white;}#sk-container-id-2 label.sk-toggleable__label {cursor: pointer;display: block;width: 100%;margin-bottom: 0;padding: 0.3em;box-sizing: border-box;text-align: center;}#sk-container-id-2 label.sk-toggleable__label-arrow:before {content: \"▸\";float: left;margin-right: 0.25em;color: #696969;}#sk-container-id-2 label.sk-toggleable__label-arrow:hover:before {color: black;}#sk-container-id-2 div.sk-estimator:hover label.sk-toggleable__label-arrow:before {color: black;}#sk-container-id-2 div.sk-toggleable__content {max-height: 0;max-width: 0;overflow: hidden;text-align: left;background-color: #f0f8ff;}#sk-container-id-2 div.sk-toggleable__content pre {margin: 0.2em;color: black;border-radius: 0.25em;background-color: #f0f8ff;}#sk-container-id-2 input.sk-toggleable__control:checked~div.sk-toggleable__content {max-height: 200px;max-width: 100%;overflow: auto;}#sk-container-id-2 input.sk-toggleable__control:checked~label.sk-toggleable__label-arrow:before {content: \"▾\";}#sk-container-id-2 div.sk-estimator input.sk-toggleable__control:checked~label.sk-toggleable__label {background-color: #d4ebff;}#sk-container-id-2 div.sk-label input.sk-toggleable__control:checked~label.sk-toggleable__label {background-color: #d4ebff;}#sk-container-id-2 input.sk-hidden--visually {border: 0;clip: rect(1px 1px 1px 1px);clip: rect(1px, 1px, 1px, 1px);height: 1px;margin: -1px;overflow: hidden;padding: 0;position: absolute;width: 1px;}#sk-container-id-2 div.sk-estimator {font-family: monospace;background-color: #f0f8ff;border: 1px dotted black;border-radius: 0.25em;box-sizing: border-box;margin-bottom: 0.5em;}#sk-container-id-2 div.sk-estimator:hover {background-color: #d4ebff;}#sk-container-id-2 div.sk-parallel-item::after {content: \"\";width: 100%;border-bottom: 1px solid gray;flex-grow: 1;}#sk-container-id-2 div.sk-label:hover label.sk-toggleable__label {background-color: #d4ebff;}#sk-container-id-2 div.sk-serial::before {content: \"\";position: absolute;border-left: 1px solid gray;box-sizing: border-box;top: 0;bottom: 0;left: 50%;z-index: 0;}#sk-container-id-2 div.sk-serial {display: flex;flex-direction: column;align-items: center;background-color: white;padding-right: 0.2em;padding-left: 0.2em;position: relative;}#sk-container-id-2 div.sk-item {position: relative;z-index: 1;}#sk-container-id-2 div.sk-parallel {display: flex;align-items: stretch;justify-content: center;background-color: white;position: relative;}#sk-container-id-2 div.sk-item::before, #sk-container-id-2 div.sk-parallel-item::before {content: \"\";position: absolute;border-left: 1px solid gray;box-sizing: border-box;top: 0;bottom: 0;left: 50%;z-index: -1;}#sk-container-id-2 div.sk-parallel-item {display: flex;flex-direction: column;z-index: 1;position: relative;background-color: white;}#sk-container-id-2 div.sk-parallel-item:first-child::after {align-self: flex-end;width: 50%;}#sk-container-id-2 div.sk-parallel-item:last-child::after {align-self: flex-start;width: 50%;}#sk-container-id-2 div.sk-parallel-item:only-child::after {width: 0;}#sk-container-id-2 div.sk-dashed-wrapped {border: 1px dashed gray;margin: 0 0.4em 0.5em 0.4em;box-sizing: border-box;padding-bottom: 0.4em;background-color: white;}#sk-container-id-2 div.sk-label label {font-family: monospace;font-weight: bold;display: inline-block;line-height: 1.2em;}#sk-container-id-2 div.sk-label-container {text-align: center;}#sk-container-id-2 div.sk-container {/* jupyter's `normalize.less` sets `[hidden] { display: none; }` but bootstrap.min.css set `[hidden] { display: none !important; }` so we also need the `!important` here to be able to override the default hidden behavior on the sphinx rendered scikit-learn.org. See: https://github.com/scikit-learn/scikit-learn/issues/21755 */display: inline-block !important;position: relative;}#sk-container-id-2 div.sk-text-repr-fallback {display: none;}</style><div id=\"sk-container-id-2\" class=\"sk-top-container\"><div class=\"sk-text-repr-fallback\"><pre>RandomForestClassifier(random_state=42)</pre><b>In a Jupyter environment, please rerun this cell to show the HTML representation or trust the notebook. <br />On GitHub, the HTML representation is unable to render, please try loading this page with nbviewer.org.</b></div><div class=\"sk-container\" hidden><div class=\"sk-item\"><div class=\"sk-estimator sk-toggleable\"><input class=\"sk-toggleable__control sk-hidden--visually\" id=\"sk-estimator-id-2\" type=\"checkbox\" checked><label for=\"sk-estimator-id-2\" class=\"sk-toggleable__label sk-toggleable__label-arrow\">RandomForestClassifier</label><div class=\"sk-toggleable__content\"><pre>RandomForestClassifier(random_state=42)</pre></div></div></div></div></div>"
      ],
      "text/plain": [
       "RandomForestClassifier(random_state=42)"
      ]
     },
     "execution_count": 17,
     "metadata": {},
     "output_type": "execute_result"
    }
   ],
   "source": [
    "rf_classifier = RandomForestClassifier(n_estimators=100, random_state=42)\n",
    "\n",
    "rf_classifier.fit(X_train, y_train)"
   ]
  },
  {
   "cell_type": "code",
   "execution_count": 18,
   "id": "6eea7178",
   "metadata": {},
   "outputs": [],
   "source": [
    "predictions = rf_classifier.predict(X_test)\n"
   ]
  },
  {
   "cell_type": "code",
   "execution_count": 19,
   "id": "b25daeb6",
   "metadata": {},
   "outputs": [
    {
     "name": "stdout",
     "output_type": "stream",
     "text": [
      "Accuracy: 0.7064192117473105\n"
     ]
    }
   ],
   "source": [
    "accuracy = accuracy_score(y_test, predictions)\n",
    "print(f\"Accuracy: {accuracy}\")"
   ]
  },
  {
   "cell_type": "code",
   "execution_count": 20,
   "id": "78f46af5",
   "metadata": {},
   "outputs": [
    {
     "name": "stdout",
     "output_type": "stream",
     "text": [
      "Classification Report:\n",
      "              precision    recall  f1-score   support\n",
      "\n",
      "           1       0.72      0.77      0.75      4400\n",
      "           2       0.62      0.61      0.62      5725\n",
      "           3       0.74      0.79      0.76      7694\n",
      "           4       0.79      0.50      0.61      1728\n",
      "           5       0.80      0.36      0.50        66\n",
      "\n",
      "    accuracy                           0.71     19613\n",
      "   macro avg       0.74      0.61      0.65     19613\n",
      "weighted avg       0.71      0.71      0.70     19613\n",
      "\n"
     ]
    }
   ],
   "source": [
    "report = classification_report(y_test, predictions)\n",
    "print(f\"Classification Report:\\n{report}\")"
   ]
  },
  {
   "cell_type": "code",
   "execution_count": 23,
   "id": "9cf8d1c5",
   "metadata": {},
   "outputs": [
    {
     "data": {
      "text/plain": [
       "['avalanchepredict_model.pkl']"
      ]
     },
     "execution_count": 23,
     "metadata": {},
     "output_type": "execute_result"
    }
   ],
   "source": [
    "import joblib\n",
    "joblib.dump(rf_classifier, 'avalanchepredict_model.pkl')"
   ]
  },
  {
   "cell_type": "code",
   "execution_count": null,
   "id": "532bab8c",
   "metadata": {},
   "outputs": [],
   "source": []
  },
  {
   "cell_type": "code",
   "execution_count": null,
   "id": "0d3a2b79",
   "metadata": {},
   "outputs": [],
   "source": []
  }
 ],
 "metadata": {
  "kernelspec": {
   "display_name": "Python 3 (ipykernel)",
   "language": "python",
   "name": "python3"
  },
  "language_info": {
   "codemirror_mode": {
    "name": "ipython",
    "version": 3
   },
   "file_extension": ".py",
   "mimetype": "text/x-python",
   "name": "python",
   "nbconvert_exporter": "python",
   "pygments_lexer": "ipython3",
   "version": "3.11.4"
  }
 },
 "nbformat": 4,
 "nbformat_minor": 5
}
